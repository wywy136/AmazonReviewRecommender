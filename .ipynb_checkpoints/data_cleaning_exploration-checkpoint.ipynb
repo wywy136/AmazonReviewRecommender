{
 "cells": [
  {
   "cell_type": "code",
   "execution_count": 2,
   "metadata": {},
   "outputs": [],
   "source": [
    "from pyspark.sql import SparkSession\n",
    "from pyspark.sql import functions as F"
   ]
  },
  {
   "cell_type": "code",
   "execution_count": 3,
   "metadata": {},
   "outputs": [],
   "source": [
    "spark = SparkSession.builder.enableHiveSupport().appName('AmazonReviewRcommender').getOrCreate()\n",
    "sc = spark.sparkContext"
   ]
  },
  {
   "cell_type": "markdown",
   "metadata": {},
   "source": [
    "### Load kcore_5.json"
   ]
  },
  {
   "cell_type": "code",
   "execution_count": 4,
   "metadata": {},
   "outputs": [],
   "source": [
    "# Load kcore_5.json\n",
    "df = spark.read.json(\"/user/ywang27/data_final/kore_5.json\")"
   ]
  },
  {
   "cell_type": "code",
   "execution_count": 16,
   "metadata": {},
   "outputs": [
    {
     "name": "stdout",
     "output_type": "stream",
     "text": [
      "+----------+-------+-------+--------------------+-----------+--------------+------------+--------------------+--------------+\n",
      "|      asin|helpful|overall|          reviewText| reviewTime|    reviewerID|reviewerName|             summary|unixReviewTime|\n",
      "+----------+-------+-------+--------------------+-----------+--------------+------------+--------------------+--------------+\n",
      "|0000013714| [0, 0]|    4.0|We use this type ...| 12 3, 2013| ACNGUPJ3A3TM9|         GCM|         Nice Hymnal|    1386028800|\n",
      "|0000013714| [2, 3]|    5.0|I bought this for...|09 13, 2009|A2SUAM1J3GNN3B| J. McDonald|Heavenly Highway ...|    1252800000|\n",
      "+----------+-------+-------+--------------------+-----------+--------------+------------+--------------------+--------------+\n",
      "only showing top 2 rows\n",
      "\n"
     ]
    }
   ],
   "source": [
    "df.show(2)"
   ]
  },
  {
   "cell_type": "code",
   "execution_count": 17,
   "metadata": {},
   "outputs": [
    {
     "name": "stdout",
     "output_type": "stream",
     "text": [
      "root\n",
      " |-- asin: string (nullable = true)\n",
      " |-- helpful: array (nullable = true)\n",
      " |    |-- element: long (containsNull = true)\n",
      " |-- overall: double (nullable = true)\n",
      " |-- reviewText: string (nullable = true)\n",
      " |-- reviewTime: string (nullable = true)\n",
      " |-- reviewerID: string (nullable = true)\n",
      " |-- reviewerName: string (nullable = true)\n",
      " |-- summary: string (nullable = true)\n",
      " |-- unixReviewTime: long (nullable = true)\n",
      "\n"
     ]
    }
   ],
   "source": [
    "df.printSchema()"
   ]
  },
  {
   "cell_type": "markdown",
   "metadata": {},
   "source": [
    "### Write to Hive"
   ]
  },
  {
   "cell_type": "code",
   "execution_count": 4,
   "metadata": {},
   "outputs": [],
   "source": [
    "from pyspark.sql import HiveContext\n",
    "hive_context = HiveContext(sc)"
   ]
  },
  {
   "cell_type": "code",
   "execution_count": 22,
   "metadata": {},
   "outputs": [
    {
     "name": "stdout",
     "output_type": "stream",
     "text": [
      "+--------+--------------------+-----------+\n",
      "|database|           tableName|isTemporary|\n",
      "+--------+--------------------+-----------+\n",
      "| ywang27|      chicago_crimes|      false|\n",
      "| ywang27|  chicago_crimes_orc|      false|\n",
      "| ywang27|chicago_crimes_sm...|      false|\n",
      "| ywang27|chicago_crimes_sm...|      false|\n",
      "| ywang27|             kcore_5|      false|\n",
      "+--------+--------------------+-----------+\n",
      "\n"
     ]
    },
    {
     "data": {
      "text/plain": [
       "DataFrame[]"
      ]
     },
     "execution_count": 22,
     "metadata": {},
     "output_type": "execute_result"
    }
   ],
   "source": [
    "hive_context.sql(\"use ywang27\")\n",
    "hive_context.sql(\"show tables\").show()\n",
    "hive_context.sql(\"drop table if exists kcore_5\")"
   ]
  },
  {
   "cell_type": "code",
   "execution_count": 23,
   "metadata": {},
   "outputs": [],
   "source": [
    "df.write.mode('overwrite').saveAsTable('kcore_5')"
   ]
  },
  {
   "cell_type": "code",
   "execution_count": 25,
   "metadata": {},
   "outputs": [
    {
     "name": "stdout",
     "output_type": "stream",
     "text": [
      "+--------+\n",
      "|count(1)|\n",
      "+--------+\n",
      "|41135700|\n",
      "+--------+\n",
      "\n"
     ]
    }
   ],
   "source": [
    "hive_context.sql(\"select count(*) from kcore_5\").show()"
   ]
  },
  {
   "cell_type": "markdown",
   "metadata": {},
   "source": [
    "### Load metadata.json"
   ]
  },
  {
   "cell_type": "code",
   "execution_count": 5,
   "metadata": {},
   "outputs": [],
   "source": [
    "df1 = spark.read.json(\"/user/ywang27/data_final/metadata/metadata.json\")"
   ]
  },
  {
   "cell_type": "code",
   "execution_count": 19,
   "metadata": {},
   "outputs": [
    {
     "name": "stdout",
     "output_type": "stream",
     "text": [
      "+---------------+----------+-----+--------------------+--------------------+--------------------+-----+--------------------+--------------------+--------------------+\n",
      "|_corrupt_record|      asin|brand|          categories|         description|               imUrl|price|             related|           salesRank|               title|\n",
      "+---------------+----------+-----+--------------------+--------------------+--------------------+-----+--------------------+--------------------+--------------------+\n",
      "|           null|0001048791| null|           [[Books]]|                null|http://ecx.images...| null|                null|[,,,,, 6334800,,,...|The Crucible: Per...|\n",
      "|           null|0000143561| null|[[Movies & TV, Mo...|3Pack DVD set - I...|http://g-ecx.imag...|12.99|[, [B0036FO6SI, B...|[,,,,,,,,,,,,,,,,...|Everyday Italian ...|\n",
      "+---------------+----------+-----+--------------------+--------------------+--------------------+-----+--------------------+--------------------+--------------------+\n",
      "only showing top 2 rows\n",
      "\n"
     ]
    }
   ],
   "source": [
    "df1.show(2)"
   ]
  },
  {
   "cell_type": "code",
   "execution_count": 20,
   "metadata": {},
   "outputs": [
    {
     "name": "stdout",
     "output_type": "stream",
     "text": [
      "root\n",
      " |-- _corrupt_record: string (nullable = true)\n",
      " |-- asin: string (nullable = true)\n",
      " |-- brand: string (nullable = true)\n",
      " |-- categories: array (nullable = true)\n",
      " |    |-- element: array (containsNull = true)\n",
      " |    |    |-- element: string (containsNull = true)\n",
      " |-- description: string (nullable = true)\n",
      " |-- imUrl: string (nullable = true)\n",
      " |-- price: double (nullable = true)\n",
      " |-- related: struct (nullable = true)\n",
      " |    |-- also_bought: array (nullable = true)\n",
      " |    |    |-- element: string (containsNull = true)\n",
      " |    |-- also_viewed: array (nullable = true)\n",
      " |    |    |-- element: string (containsNull = true)\n",
      " |    |-- bought_together: array (nullable = true)\n",
      " |    |    |-- element: string (containsNull = true)\n",
      " |    |-- buy_after_viewing: array (nullable = true)\n",
      " |    |    |-- element: string (containsNull = true)\n",
      " |-- salesRank: struct (nullable = true)\n",
      " |    |-- Appliances: long (nullable = true)\n",
      " |    |-- Arts, Crafts & Sewing: long (nullable = true)\n",
      " |    |-- Automotive: long (nullable = true)\n",
      " |    |-- Baby: long (nullable = true)\n",
      " |    |-- Beauty: long (nullable = true)\n",
      " |    |-- Books: long (nullable = true)\n",
      " |    |-- Camera &amp; Photo: long (nullable = true)\n",
      " |    |-- Cell Phones & Accessories: long (nullable = true)\n",
      " |    |-- Clothing: long (nullable = true)\n",
      " |    |-- Computers & Accessories: long (nullable = true)\n",
      " |    |-- Electronics: long (nullable = true)\n",
      " |    |-- Gift Cards Store: long (nullable = true)\n",
      " |    |-- Grocery & Gourmet Food: long (nullable = true)\n",
      " |    |-- Health & Personal Care: long (nullable = true)\n",
      " |    |-- Home &amp; Kitchen: long (nullable = true)\n",
      " |    |-- Home Improvement: long (nullable = true)\n",
      " |    |-- Industrial & Scientific: long (nullable = true)\n",
      " |    |-- Jewelry: long (nullable = true)\n",
      " |    |-- Kitchen & Dining: long (nullable = true)\n",
      " |    |-- Magazines: long (nullable = true)\n",
      " |    |-- Movies & TV: long (nullable = true)\n",
      " |    |-- Music: long (nullable = true)\n",
      " |    |-- Musical Instruments: long (nullable = true)\n",
      " |    |-- Office Products: long (nullable = true)\n",
      " |    |-- Patio, Lawn & Garden: long (nullable = true)\n",
      " |    |-- Pet Supplies: long (nullable = true)\n",
      " |    |-- Prime Pantry: long (nullable = true)\n",
      " |    |-- Shoes: long (nullable = true)\n",
      " |    |-- Software: long (nullable = true)\n",
      " |    |-- Sports &amp; Outdoors: long (nullable = true)\n",
      " |    |-- Toys & Games: long (nullable = true)\n",
      " |    |-- Video Games: long (nullable = true)\n",
      " |    |-- Watches: long (nullable = true)\n",
      " |-- title: string (nullable = true)\n",
      "\n"
     ]
    }
   ],
   "source": [
    "df1.printSchema()"
   ]
  },
  {
   "cell_type": "markdown",
   "metadata": {},
   "source": [
    "### Join metadata with kcore_5"
   ]
  },
  {
   "cell_type": "code",
   "execution_count": 6,
   "metadata": {},
   "outputs": [],
   "source": [
    "df2 = df.join(df1, df.asin == df1.asin, \"inner\").select(\n",
    "    df.asin, \n",
    "    df.helpful,\n",
    "    df.overall, \n",
    "    df.reviewText, \n",
    "    df.reviewerID,\n",
    "    df1.categories,\n",
    "    df1.price,\n",
    "    df1.related,\n",
    "    df1.title\n",
    ")"
   ]
  },
  {
   "cell_type": "code",
   "execution_count": 6,
   "metadata": {},
   "outputs": [
    {
     "name": "stdout",
     "output_type": "stream",
     "text": [
      "+----------+-------+-------+--------------------+--------------+----------+-----+--------------------+---------------+\n",
      "|      asin|helpful|overall|          reviewText|    reviewerID|categories|price|             related|          title|\n",
      "+----------+-------+-------+--------------------+--------------+----------+-----+--------------------+---------------+\n",
      "|0002216973| [1, 1]|    5.0|And to me, there'...| AESMLAZX4PI6L| [[Books]]| null|[, [0812823354, 0...|Red Adam's Lady|\n",
      "|0002216973| [1, 1]|    5.0|From the dust jac...| AMVV8VYDTLA78| [[Books]]| null|[, [0812823354, 0...|Red Adam's Lady|\n",
      "|0002216973| [1, 1]|    5.0|There are only a ...| AHCOCJHM388I7| [[Books]]| null|[, [0812823354, 0...|Red Adam's Lady|\n",
      "|0002216973| [0, 0]|    5.0|I bought this boo...| ACUJMLOJEVYTB| [[Books]]| null|[, [0812823354, 0...|Red Adam's Lady|\n",
      "|0002216973| [0, 0]|    5.0|I was looking out...|A39CS2IZHTQVJH| [[Books]]| null|[, [0812823354, 0...|Red Adam's Lady|\n",
      "+----------+-------+-------+--------------------+--------------+----------+-----+--------------------+---------------+\n",
      "only showing top 5 rows\n",
      "\n"
     ]
    }
   ],
   "source": [
    "df2.show(5)"
   ]
  },
  {
   "cell_type": "code",
   "execution_count": 7,
   "metadata": {},
   "outputs": [
    {
     "data": {
      "text/plain": [
       "33282097"
      ]
     },
     "execution_count": 7,
     "metadata": {},
     "output_type": "execute_result"
    }
   ],
   "source": [
    "df2.count()"
   ]
  },
  {
   "cell_type": "markdown",
   "metadata": {},
   "source": [
    "### Number of items per categories"
   ]
  },
  {
   "cell_type": "code",
   "execution_count": 34,
   "metadata": {},
   "outputs": [],
   "source": [
    "categories_num: list = df2.groupBy(df2.categories[0][0]).count().sort(\"count\", ascending=False).collect()"
   ]
  },
  {
   "cell_type": "code",
   "execution_count": 35,
   "metadata": {},
   "outputs": [
    {
     "data": {
      "text/plain": [
       "[Row(categories[0][0]='Books', count=9115768),\n",
       " Row(categories[0][0]='Electronics', count=3398224),\n",
       " Row(categories[0][0]='Clothing, Shoes & Jewelry', count=2059979),\n",
       " Row(categories[0][0]='Movies & TV', count=1989636),\n",
       " Row(categories[0][0]='Home & Kitchen', count=1985213),\n",
       " Row(categories[0][0]='Health & Personal Care', count=1468117),\n",
       " Row(categories[0][0]='Cell Phones & Accessories', count=1297057),\n",
       " Row(categories[0][0]='Apps for Android', count=1295382),\n",
       " Row(categories[0][0]='Sports & Outdoors', count=1260001),\n",
       " Row(categories[0][0]='CDs & Vinyl', count=1234729),\n",
       " Row(categories[0][0]='Beauty', count=932096),\n",
       " Row(categories[0][0]='Tools & Home Improvement', count=859274),\n",
       " Row(categories[0][0]='Toys & Games', count=833469),\n",
       " Row(categories[0][0]='Grocery & Gourmet Food', count=665808),\n",
       " Row(categories[0][0]='Pet Supplies', count=643913),\n",
       " Row(categories[0][0]='Video Games', count=581174),\n",
       " Row(categories[0][0]='Office Products', count=580039),\n",
       " Row(categories[0][0]='Automotive', count=455249),\n",
       " Row(categories[0][0]='Patio, Lawn & Garden', count=432274),\n",
       " Row(categories[0][0]='Baby', count=417403),\n",
       " Row(categories[0][0]='Amazon Instant Video', count=317234),\n",
       " Row(categories[0][0]='Arts, Crafts & Sewing', count=203775),\n",
       " Row(categories[0][0]='Musical Instruments', count=157539),\n",
       " Row(categories[0][0]=None, count=135394),\n",
       " Row(categories[0][0]='Software', count=125194),\n",
       " Row(categories[0][0]='', count=122966),\n",
       " Row(categories[0][0]='Digital Music', count=119346),\n",
       " Row(categories[0][0]='Industrial & Scientific', count=114430),\n",
       " Row(categories[0][0]='Buy a Kindle', count=101808),\n",
       " Row(categories[0][0]='Baby Products', count=79401),\n",
       " Row(categories[0][0]='Appliances', count=66353),\n",
       " Row(categories[0][0]='Amazon Fashion', count=30819),\n",
       " Row(categories[0][0]='All Electronics', count=28868),\n",
       " Row(categories[0][0]='Kindle Store', count=24788),\n",
       " Row(categories[0][0]='Kitchen & Dining', count=19149),\n",
       " Row(categories[0][0]='Magazine Subscriptions', count=15068),\n",
       " Row(categories[0][0]='Luxury Beauty', count=14383),\n",
       " Row(categories[0][0]='All Beauty', count=13630),\n",
       " Row(categories[0][0]='Gift Cards', count=13033),\n",
       " Row(categories[0][0]='Computers', count=11066),\n",
       " Row(categories[0][0]='Home Improvement', count=10726),\n",
       " Row(categories[0][0]='MP3 Players & Accessories', count=9481),\n",
       " Row(categories[0][0]='Appstore for Android', count=8025),\n",
       " Row(categories[0][0]='Amazon Fire TV', count=4574),\n",
       " Row(categories[0][0]='Car Electronics', count=4135),\n",
       " Row(categories[0][0]='Christian', count=3640),\n",
       " Row(categories[0][0]='Office & School Supplies', count=3595),\n",
       " Row(categories[0][0]='Davis', count=2025),\n",
       " Row(categories[0][0]='Miscellaneous', count=1752),\n",
       " Row(categories[0][0]='Alternative Rock', count=1565),\n",
       " Row(categories[0][0]='Classical', count=1448),\n",
       " Row(categories[0][0]='GPS & Navigation', count=1336),\n",
       " Row(categories[0][0]='Dance & Electronic', count=1094),\n",
       " Row(categories[0][0]='Camera & Photo', count=1070),\n",
       " Row(categories[0][0]='Pop', count=1000),\n",
       " Row(categories[0][0]='All Credit Cards', count=962),\n",
       " Row(categories[0][0]='Amazon Coins', count=643),\n",
       " Row(categories[0][0]='International', count=584),\n",
       " Row(categories[0][0]='Classic Rock', count=533),\n",
       " Row(categories[0][0]='R&B', count=454),\n",
       " Row(categories[0][0]='Hard Rock & Metal', count=445),\n",
       " Row(categories[0][0]='Rock', count=438),\n",
       " Row(categories[0][0]='Purchase Circles', count=415),\n",
       " Row(categories[0][0]='Jazz', count=407),\n",
       " Row(categories[0][0]='Folk', count=402),\n",
       " Row(categories[0][0]='Collectibles & Fine Art', count=377),\n",
       " Row(categories[0][0]='Country', count=361),\n",
       " Row(categories[0][0]='Gift Cards Store', count=284),\n",
       " Row(categories[0][0]='Furniture & D&#233;cor', count=280),\n",
       " Row(categories[0][0]='New Age', count=201),\n",
       " Row(categories[0][0]='Wine', count=180),\n",
       " Row(categories[0][0]='Gospel', count=145),\n",
       " Row(categories[0][0]='Broadway & Vocalists', count=142),\n",
       " Row(categories[0][0]='Blues', count=141),\n",
       " Row(categories[0][0]='Rap & Hip-Hop', count=103),\n",
       " Row(categories[0][0]=\"Children's Music\", count=56),\n",
       " Row(categories[0][0]='#508510', count=17),\n",
       " Row(categories[0][0]='Celebrate your Birthday with Nickelodeon', count=12)]"
      ]
     },
     "execution_count": 35,
     "metadata": {},
     "output_type": "execute_result"
    }
   ],
   "source": [
    "categories_num"
   ]
  },
  {
   "cell_type": "code",
   "execution_count": 34,
   "metadata": {},
   "outputs": [],
   "source": [
    "from pyspark.sql.functions import split, explode, lower\n",
    "\n",
    "# including stopwords\n",
    "from nltk.corpus import stopwords\n",
    "stop_words = stopwords.words(\"english\")\n",
    "\n",
    "# add some non-sense words\n",
    "stop_words += ['', \"-\", \"many\", '\"', \"go\", \"one\", \"much\", \"get\", \"also\", \"would\", \"make\", \"i'm\", \"i've\", \"us\", \"going\",\n",
    "               \"could\", \"made\", \"every\", \"another\", \"things\", \"may\"]"
   ]
  },
  {
   "cell_type": "code",
   "execution_count": 27,
   "metadata": {},
   "outputs": [
    {
     "data": {
      "text/plain": [
       "9115768"
      ]
     },
     "execution_count": 27,
     "metadata": {},
     "output_type": "execute_result"
    }
   ],
   "source": [
    "primary_type = \"Books\"\n",
    "df_type_review = df2.select(\"reviewText\").where(df2.categories[0][0] == primary_type)\n",
    "# df2.where(df2.categories[0][0] == primary_type).count()\n",
    "df_type_review.count()"
   ]
  },
  {
   "cell_type": "code",
   "execution_count": 17,
   "metadata": {},
   "outputs": [
    {
     "name": "stdout",
     "output_type": "stream",
     "text": [
      "+--------------------+\n",
      "|          reviewText|\n",
      "+--------------------+\n",
      "|And to me, there'...|\n",
      "|From the dust jac...|\n",
      "|There are only a ...|\n",
      "|I bought this boo...|\n",
      "|I was looking out...|\n",
      "|Lady Julitta de M...|\n",
      "|I read this many ...|\n",
      "|It seems cruel to...|\n",
      "|I am thrilled to ...|\n",
      "|Lady Julitta is m...|\n",
      "+--------------------+\n",
      "\n"
     ]
    }
   ],
   "source": [
    "# df_type_review_small = df_type_review.select(\"reviewText\").limit(10)\n",
    "# df_type_review_small.show()"
   ]
  },
  {
   "cell_type": "code",
   "execution_count": 28,
   "metadata": {},
   "outputs": [],
   "source": [
    "# https://spark.apache.org/docs/latest/api/python/reference/pyspark.pandas/api/pyspark.pandas.DataFrame.explode.html?highlight=explode\n",
    "# https://spark.apache.org/docs/latest/api/python/reference/api/pyspark.sql.functions.split.html?highlight=split#pyspark.sql.functions.split\n",
    "\n",
    "# split the text by space and punctuations and convert to multiple rows\n",
    "df_type_review_word = df_type_review.select(explode(split(lower(df_type_review.reviewText), '[\\s,.!?]')).alias('words'))\n",
    "# df_type_review_word.show(20)"
   ]
  },
  {
   "cell_type": "code",
   "execution_count": 29,
   "metadata": {},
   "outputs": [],
   "source": [
    "# https://spark.apache.org/docs/latest/api/python/reference/pyspark.pandas/api/pyspark.pandas.groupby.GroupBy.count.html?highlight=count\n",
    "\n",
    "# count the top 100 word frequency and export to \n",
    "df_type_review_word = df_type_review_word.groupBy(\n",
    "    df_type_review_word.words).count().sort(\n",
    "    \"count\", ascending=False)"
   ]
  },
  {
   "cell_type": "code",
   "execution_count": 35,
   "metadata": {},
   "outputs": [
    {
     "data": {
      "text/plain": [
       "[Row(words='book', count=13732763),\n",
       " Row(words='read', count=5822660),\n",
       " Row(words='story', count=4716296),\n",
       " Row(words='like', count=3362411),\n",
       " Row(words='love', count=2834388),\n",
       " Row(words='good', count=2803945),\n",
       " Row(words='books', count=2526700),\n",
       " Row(words='great', count=2510268),\n",
       " Row(words='really', count=2509898),\n",
       " Row(words='characters', count=2342866),\n",
       " Row(words='well', count=2204127),\n",
       " Row(words='time', count=2201773),\n",
       " Row(words='reading', count=2128869),\n",
       " Row(words='first', count=2093579),\n",
       " Row(words='series', count=2008353),\n",
       " Row(words='life', count=1935587),\n",
       " Row(words='author', count=1769646),\n",
       " Row(words='way', count=1750145),\n",
       " Row(words='even', count=1733428),\n",
       " Row(words='know', count=1506699),\n",
       " Row(words='could', count=1482603),\n",
       " Row(words='people', count=1408585),\n",
       " Row(words='new', count=1359971),\n",
       " Row(words='little', count=1334096),\n",
       " Row(words='think', count=1328763),\n",
       " Row(words='see', count=1267291),\n",
       " Row(words='find', count=1248848),\n",
       " Row(words='two', count=1228120),\n",
       " Row(words='loved', count=1202201),\n",
       " Row(words='want', count=1161350),\n",
       " Row(words='end', count=1153358),\n",
       " Row(words=\"i'm\", count=1122168),\n",
       " Row(words='written', count=1106207),\n",
       " Row(words='world', count=1106137),\n",
       " Row(words='never', count=1090998),\n",
       " Row(words='novel', count=1083232),\n",
       " Row(words='found', count=1078210),\n",
       " Row(words='things', count=1044521),\n",
       " Row(words='enjoyed', count=1036023),\n",
       " Row(words='recommend', count=1025858),\n",
       " Row(words='back', count=1021328),\n",
       " Row(words='character', count=1016274),\n",
       " Row(words='next', count=1008670),\n",
       " Row(words='still', count=992448),\n",
       " Row(words='work', count=976782),\n",
       " Row(words='interesting', count=967185),\n",
       " Row(words='going', count=947760),\n",
       " Row(words='us', count=938897),\n",
       " Row(words='best', count=926774),\n",
       " Row(words='lot', count=920921),\n",
       " Row(words='another', count=920370),\n",
       " Row(words='writing', count=915736),\n",
       " Row(words='made', count=912271),\n",
       " Row(words='years', count=907461),\n",
       " Row(words='put', count=897194),\n",
       " Row(words='say', count=892882),\n",
       " Row(words=\"can't\", count=892764),\n",
       " Row(words='better', count=880371),\n",
       " Row(words='stories', count=847766),\n",
       " Row(words='every', count=838598),\n",
       " Row(words='family', count=835568),\n",
       " Row(words='something', count=829729),\n",
       " Row(words='though', count=808637),\n",
       " Row(words='thought', count=794836),\n",
       " Row(words='feel', count=783460),\n",
       " Row(words='different', count=769280),\n",
       " Row(words='always', count=764782),\n",
       " Row(words='part', count=761842),\n",
       " Row(words='plot', count=753315),\n",
       " Row(words='bit', count=751128),\n",
       " Row(words='right', count=744555),\n",
       " Row(words='makes', count=739309),\n",
       " Row(words='reader', count=726388),\n",
       " Row(words='take', count=726082),\n",
       " Row(words='give', count=719968),\n",
       " Row(words='man', count=715743),\n",
       " Row(words='real', count=711601),\n",
       " Row(words=\"i've\", count=707967),\n",
       " Row(words='however', count=703173),\n",
       " Row(words='got', count=700485),\n",
       " Row(words='easy', count=696864),\n",
       " Row(words='enough', count=694662),\n",
       " Row(words='help', count=692517),\n",
       " Row(words='times', count=686666),\n",
       " Row(words='looking', count=686356),\n",
       " Row(words='may', count=681361),\n",
       " Row(words='keep', count=676735),\n",
       " Row(words='need', count=675160),\n",
       " Row(words='long', count=673333),\n",
       " Row(words='come', count=665831),\n",
       " Row(words='must', count=638636),\n",
       " Row(words='look', count=636377),\n",
       " Row(words='enjoy', count=632433),\n",
       " Row(words='wait', count=630322),\n",
       " Row(words='romance', count=628810),\n",
       " Row(words='old', count=626678),\n",
       " Row(words='review', count=625882),\n",
       " Row(words='fun', count=616213),\n",
       " Row(words='without', count=615798),\n",
       " Row(words='ever', count=615344)]"
      ]
     },
     "execution_count": 35,
     "metadata": {},
     "output_type": "execute_result"
    }
   ],
   "source": [
    "# https://stackoverflow.com/questions/19960077/how-to-filter-pandas-dataframe-using-in-and-not-in-like-in-sql\n",
    "\n",
    "# filter out stopwords\n",
    "df_type_review_word_list = df_type_review_word.select(\"words\", \"count\").where(\n",
    "    ~df_type_review_word.words.isin(stop_words)).limit(100).collect()\n",
    "df_type_review_word_list"
   ]
  },
  {
   "cell_type": "code",
   "execution_count": null,
   "metadata": {},
   "outputs": [],
   "source": []
  },
  {
   "cell_type": "code",
   "execution_count": null,
   "metadata": {},
   "outputs": [],
   "source": []
  },
  {
   "cell_type": "code",
   "execution_count": null,
   "metadata": {},
   "outputs": [],
   "source": []
  },
  {
   "cell_type": "code",
   "execution_count": 14,
   "metadata": {},
   "outputs": [],
   "source": [
    "# l = [('Alice', 'sdfj'), ('sdf', 'sdf dfd erew sdf')]\n",
    "# df_try = spark.createDataFrame(l, ['str1', 'str2'])"
   ]
  },
  {
   "cell_type": "code",
   "execution_count": 15,
   "metadata": {},
   "outputs": [],
   "source": [
    "# df_try = df_try.select(explode(split(df_try.str2, ' ')).alias('s'))"
   ]
  },
  {
   "cell_type": "code",
   "execution_count": 23,
   "metadata": {},
   "outputs": [
    {
     "name": "stdout",
     "output_type": "stream",
     "text": [
      "+----+-----+\n",
      "|   s|count|\n",
      "+----+-----+\n",
      "| sdf|    2|\n",
      "|erew|    1|\n",
      "|sdfj|    1|\n",
      "| dfd|    1|\n",
      "+----+-----+\n",
      "\n"
     ]
    }
   ],
   "source": [
    "# df_try.groupBy(df_try.s).count().sort(\"count\", ascending=False).show()"
   ]
  },
  {
   "cell_type": "code",
   "execution_count": null,
   "metadata": {},
   "outputs": [],
   "source": []
  }
 ],
 "metadata": {
  "kernelspec": {
   "display_name": "pySpark",
   "language": "python",
   "name": "pyspark"
  },
  "language_info": {
   "codemirror_mode": {
    "name": "ipython",
    "version": 3
   },
   "file_extension": ".py",
   "mimetype": "text/x-python",
   "name": "python",
   "nbconvert_exporter": "python",
   "pygments_lexer": "ipython3",
   "version": "3.6.8"
  }
 },
 "nbformat": 4,
 "nbformat_minor": 2
}
