{
 "cells": [
  {
   "cell_type": "code",
   "execution_count": 2,
   "metadata": {},
   "outputs": [],
   "source": [
    "from pyspark.sql import SparkSession\n",
    "from pyspark.sql import functions as F"
   ]
  },
  {
   "cell_type": "code",
   "execution_count": 3,
   "metadata": {},
   "outputs": [],
   "source": [
    "spark = SparkSession.builder.enableHiveSupport().appName('AmazonReviewRcommender').getOrCreate()\n",
    "sc = spark.sparkContext"
   ]
  },
  {
   "cell_type": "markdown",
   "metadata": {},
   "source": [
    "### Load kcore_5.json"
   ]
  },
  {
   "cell_type": "code",
   "execution_count": 4,
   "metadata": {},
   "outputs": [],
   "source": [
    "# Load kcore_5.json\n",
    "df = spark.read.json(\"/user/ywang27/data_final/kore_5.json\")"
   ]
  },
  {
   "cell_type": "code",
   "execution_count": 16,
   "metadata": {},
   "outputs": [
    {
     "name": "stdout",
     "output_type": "stream",
     "text": [
      "+----------+-------+-------+--------------------+-----------+--------------+------------+--------------------+--------------+\n",
      "|      asin|helpful|overall|          reviewText| reviewTime|    reviewerID|reviewerName|             summary|unixReviewTime|\n",
      "+----------+-------+-------+--------------------+-----------+--------------+------------+--------------------+--------------+\n",
      "|0000013714| [0, 0]|    4.0|We use this type ...| 12 3, 2013| ACNGUPJ3A3TM9|         GCM|         Nice Hymnal|    1386028800|\n",
      "|0000013714| [2, 3]|    5.0|I bought this for...|09 13, 2009|A2SUAM1J3GNN3B| J. McDonald|Heavenly Highway ...|    1252800000|\n",
      "+----------+-------+-------+--------------------+-----------+--------------+------------+--------------------+--------------+\n",
      "only showing top 2 rows\n",
      "\n"
     ]
    }
   ],
   "source": [
    "df.show(2)"
   ]
  },
  {
   "cell_type": "code",
   "execution_count": 17,
   "metadata": {},
   "outputs": [
    {
     "name": "stdout",
     "output_type": "stream",
     "text": [
      "root\n",
      " |-- asin: string (nullable = true)\n",
      " |-- helpful: array (nullable = true)\n",
      " |    |-- element: long (containsNull = true)\n",
      " |-- overall: double (nullable = true)\n",
      " |-- reviewText: string (nullable = true)\n",
      " |-- reviewTime: string (nullable = true)\n",
      " |-- reviewerID: string (nullable = true)\n",
      " |-- reviewerName: string (nullable = true)\n",
      " |-- summary: string (nullable = true)\n",
      " |-- unixReviewTime: long (nullable = true)\n",
      "\n"
     ]
    }
   ],
   "source": [
    "df.printSchema()"
   ]
  },
  {
   "cell_type": "markdown",
   "metadata": {},
   "source": [
    "### Write to Hive"
   ]
  },
  {
   "cell_type": "code",
   "execution_count": 4,
   "metadata": {},
   "outputs": [],
   "source": [
    "from pyspark.sql import HiveContext\n",
    "hive_context = HiveContext(sc)"
   ]
  },
  {
   "cell_type": "code",
   "execution_count": 22,
   "metadata": {},
   "outputs": [
    {
     "name": "stdout",
     "output_type": "stream",
     "text": [
      "+--------+--------------------+-----------+\n",
      "|database|           tableName|isTemporary|\n",
      "+--------+--------------------+-----------+\n",
      "| ywang27|      chicago_crimes|      false|\n",
      "| ywang27|  chicago_crimes_orc|      false|\n",
      "| ywang27|chicago_crimes_sm...|      false|\n",
      "| ywang27|chicago_crimes_sm...|      false|\n",
      "| ywang27|             kcore_5|      false|\n",
      "+--------+--------------------+-----------+\n",
      "\n"
     ]
    },
    {
     "data": {
      "text/plain": [
       "DataFrame[]"
      ]
     },
     "execution_count": 22,
     "metadata": {},
     "output_type": "execute_result"
    }
   ],
   "source": [
    "hive_context.sql(\"use ywang27\")\n",
    "hive_context.sql(\"show tables\").show()\n",
    "hive_context.sql(\"drop table if exists kcore_5\")"
   ]
  },
  {
   "cell_type": "code",
   "execution_count": 23,
   "metadata": {},
   "outputs": [],
   "source": [
    "df.write.mode('overwrite').saveAsTable('kcore_5')"
   ]
  },
  {
   "cell_type": "code",
   "execution_count": 25,
   "metadata": {},
   "outputs": [
    {
     "name": "stdout",
     "output_type": "stream",
     "text": [
      "+--------+\n",
      "|count(1)|\n",
      "+--------+\n",
      "|41135700|\n",
      "+--------+\n",
      "\n"
     ]
    }
   ],
   "source": [
    "hive_context.sql(\"select count(*) from kcore_5\").show()"
   ]
  },
  {
   "cell_type": "markdown",
   "metadata": {},
   "source": [
    "### Load metadata.json"
   ]
  },
  {
   "cell_type": "code",
   "execution_count": 5,
   "metadata": {},
   "outputs": [],
   "source": [
    "df1 = spark.read.json(\"/user/ywang27/data_final/metadata/metadata.json\")"
   ]
  },
  {
   "cell_type": "code",
   "execution_count": 19,
   "metadata": {},
   "outputs": [
    {
     "name": "stdout",
     "output_type": "stream",
     "text": [
      "+---------------+----------+-----+--------------------+--------------------+--------------------+-----+--------------------+--------------------+--------------------+\n",
      "|_corrupt_record|      asin|brand|          categories|         description|               imUrl|price|             related|           salesRank|               title|\n",
      "+---------------+----------+-----+--------------------+--------------------+--------------------+-----+--------------------+--------------------+--------------------+\n",
      "|           null|0001048791| null|           [[Books]]|                null|http://ecx.images...| null|                null|[,,,,, 6334800,,,...|The Crucible: Per...|\n",
      "|           null|0000143561| null|[[Movies & TV, Mo...|3Pack DVD set - I...|http://g-ecx.imag...|12.99|[, [B0036FO6SI, B...|[,,,,,,,,,,,,,,,,...|Everyday Italian ...|\n",
      "+---------------+----------+-----+--------------------+--------------------+--------------------+-----+--------------------+--------------------+--------------------+\n",
      "only showing top 2 rows\n",
      "\n"
     ]
    }
   ],
   "source": [
    "df1.show(2)"
   ]
  },
  {
   "cell_type": "code",
   "execution_count": 20,
   "metadata": {},
   "outputs": [
    {
     "name": "stdout",
     "output_type": "stream",
     "text": [
      "root\n",
      " |-- _corrupt_record: string (nullable = true)\n",
      " |-- asin: string (nullable = true)\n",
      " |-- brand: string (nullable = true)\n",
      " |-- categories: array (nullable = true)\n",
      " |    |-- element: array (containsNull = true)\n",
      " |    |    |-- element: string (containsNull = true)\n",
      " |-- description: string (nullable = true)\n",
      " |-- imUrl: string (nullable = true)\n",
      " |-- price: double (nullable = true)\n",
      " |-- related: struct (nullable = true)\n",
      " |    |-- also_bought: array (nullable = true)\n",
      " |    |    |-- element: string (containsNull = true)\n",
      " |    |-- also_viewed: array (nullable = true)\n",
      " |    |    |-- element: string (containsNull = true)\n",
      " |    |-- bought_together: array (nullable = true)\n",
      " |    |    |-- element: string (containsNull = true)\n",
      " |    |-- buy_after_viewing: array (nullable = true)\n",
      " |    |    |-- element: string (containsNull = true)\n",
      " |-- salesRank: struct (nullable = true)\n",
      " |    |-- Appliances: long (nullable = true)\n",
      " |    |-- Arts, Crafts & Sewing: long (nullable = true)\n",
      " |    |-- Automotive: long (nullable = true)\n",
      " |    |-- Baby: long (nullable = true)\n",
      " |    |-- Beauty: long (nullable = true)\n",
      " |    |-- Books: long (nullable = true)\n",
      " |    |-- Camera &amp; Photo: long (nullable = true)\n",
      " |    |-- Cell Phones & Accessories: long (nullable = true)\n",
      " |    |-- Clothing: long (nullable = true)\n",
      " |    |-- Computers & Accessories: long (nullable = true)\n",
      " |    |-- Electronics: long (nullable = true)\n",
      " |    |-- Gift Cards Store: long (nullable = true)\n",
      " |    |-- Grocery & Gourmet Food: long (nullable = true)\n",
      " |    |-- Health & Personal Care: long (nullable = true)\n",
      " |    |-- Home &amp; Kitchen: long (nullable = true)\n",
      " |    |-- Home Improvement: long (nullable = true)\n",
      " |    |-- Industrial & Scientific: long (nullable = true)\n",
      " |    |-- Jewelry: long (nullable = true)\n",
      " |    |-- Kitchen & Dining: long (nullable = true)\n",
      " |    |-- Magazines: long (nullable = true)\n",
      " |    |-- Movies & TV: long (nullable = true)\n",
      " |    |-- Music: long (nullable = true)\n",
      " |    |-- Musical Instruments: long (nullable = true)\n",
      " |    |-- Office Products: long (nullable = true)\n",
      " |    |-- Patio, Lawn & Garden: long (nullable = true)\n",
      " |    |-- Pet Supplies: long (nullable = true)\n",
      " |    |-- Prime Pantry: long (nullable = true)\n",
      " |    |-- Shoes: long (nullable = true)\n",
      " |    |-- Software: long (nullable = true)\n",
      " |    |-- Sports &amp; Outdoors: long (nullable = true)\n",
      " |    |-- Toys & Games: long (nullable = true)\n",
      " |    |-- Video Games: long (nullable = true)\n",
      " |    |-- Watches: long (nullable = true)\n",
      " |-- title: string (nullable = true)\n",
      "\n"
     ]
    }
   ],
   "source": [
    "df1.printSchema()"
   ]
  },
  {
   "cell_type": "markdown",
   "metadata": {},
   "source": [
    "### Join metadata with kcore_5"
   ]
  },
  {
   "cell_type": "code",
   "execution_count": 6,
   "metadata": {},
   "outputs": [],
   "source": [
    "df2 = df.join(df1, df.asin == df1.asin, \"inner\").select(\n",
    "    df.asin, \n",
    "    df.helpful,\n",
    "    df.overall, \n",
    "    df.reviewText, \n",
    "    df.reviewerID,\n",
    "    df1.categories,\n",
    "    df1.price,\n",
    "    df1.related,\n",
    "    df1.title\n",
    ")"
   ]
  },
  {
   "cell_type": "code",
   "execution_count": 6,
   "metadata": {},
   "outputs": [
    {
     "name": "stdout",
     "output_type": "stream",
     "text": [
      "+----------+-------+-------+--------------------+--------------+----------+-----+--------------------+---------------+\n",
      "|      asin|helpful|overall|          reviewText|    reviewerID|categories|price|             related|          title|\n",
      "+----------+-------+-------+--------------------+--------------+----------+-----+--------------------+---------------+\n",
      "|0002216973| [1, 1]|    5.0|And to me, there'...| AESMLAZX4PI6L| [[Books]]| null|[, [0812823354, 0...|Red Adam's Lady|\n",
      "|0002216973| [1, 1]|    5.0|From the dust jac...| AMVV8VYDTLA78| [[Books]]| null|[, [0812823354, 0...|Red Adam's Lady|\n",
      "|0002216973| [1, 1]|    5.0|There are only a ...| AHCOCJHM388I7| [[Books]]| null|[, [0812823354, 0...|Red Adam's Lady|\n",
      "|0002216973| [0, 0]|    5.0|I bought this boo...| ACUJMLOJEVYTB| [[Books]]| null|[, [0812823354, 0...|Red Adam's Lady|\n",
      "|0002216973| [0, 0]|    5.0|I was looking out...|A39CS2IZHTQVJH| [[Books]]| null|[, [0812823354, 0...|Red Adam's Lady|\n",
      "+----------+-------+-------+--------------------+--------------+----------+-----+--------------------+---------------+\n",
      "only showing top 5 rows\n",
      "\n"
     ]
    }
   ],
   "source": [
    "df2.show(5)"
   ]
  },
  {
   "cell_type": "code",
   "execution_count": 7,
   "metadata": {},
   "outputs": [
    {
     "data": {
      "text/plain": [
       "33282097"
      ]
     },
     "execution_count": 7,
     "metadata": {},
     "output_type": "execute_result"
    }
   ],
   "source": [
    "df2.count()"
   ]
  },
  {
   "cell_type": "markdown",
   "metadata": {},
   "source": [
    "### Number of items per categories"
   ]
  },
  {
   "cell_type": "code",
   "execution_count": 34,
   "metadata": {},
   "outputs": [],
   "source": [
    "categories_num: list = df2.groupBy(df2.categories[0][0]).count().sort(\"count\", ascending=False).collect()"
   ]
  },
  {
   "cell_type": "code",
   "execution_count": 35,
   "metadata": {},
   "outputs": [
    {
     "data": {
      "text/plain": [
       "[Row(categories[0][0]='Books', count=9115768),\n",
       " Row(categories[0][0]='Electronics', count=3398224),\n",
       " Row(categories[0][0]='Clothing, Shoes & Jewelry', count=2059979),\n",
       " Row(categories[0][0]='Movies & TV', count=1989636),\n",
       " Row(categories[0][0]='Home & Kitchen', count=1985213),\n",
       " Row(categories[0][0]='Health & Personal Care', count=1468117),\n",
       " Row(categories[0][0]='Cell Phones & Accessories', count=1297057),\n",
       " Row(categories[0][0]='Apps for Android', count=1295382),\n",
       " Row(categories[0][0]='Sports & Outdoors', count=1260001),\n",
       " Row(categories[0][0]='CDs & Vinyl', count=1234729),\n",
       " Row(categories[0][0]='Beauty', count=932096),\n",
       " Row(categories[0][0]='Tools & Home Improvement', count=859274),\n",
       " Row(categories[0][0]='Toys & Games', count=833469),\n",
       " Row(categories[0][0]='Grocery & Gourmet Food', count=665808),\n",
       " Row(categories[0][0]='Pet Supplies', count=643913),\n",
       " Row(categories[0][0]='Video Games', count=581174),\n",
       " Row(categories[0][0]='Office Products', count=580039),\n",
       " Row(categories[0][0]='Automotive', count=455249),\n",
       " Row(categories[0][0]='Patio, Lawn & Garden', count=432274),\n",
       " Row(categories[0][0]='Baby', count=417403),\n",
       " Row(categories[0][0]='Amazon Instant Video', count=317234),\n",
       " Row(categories[0][0]='Arts, Crafts & Sewing', count=203775),\n",
       " Row(categories[0][0]='Musical Instruments', count=157539),\n",
       " Row(categories[0][0]=None, count=135394),\n",
       " Row(categories[0][0]='Software', count=125194),\n",
       " Row(categories[0][0]='', count=122966),\n",
       " Row(categories[0][0]='Digital Music', count=119346),\n",
       " Row(categories[0][0]='Industrial & Scientific', count=114430),\n",
       " Row(categories[0][0]='Buy a Kindle', count=101808),\n",
       " Row(categories[0][0]='Baby Products', count=79401),\n",
       " Row(categories[0][0]='Appliances', count=66353),\n",
       " Row(categories[0][0]='Amazon Fashion', count=30819),\n",
       " Row(categories[0][0]='All Electronics', count=28868),\n",
       " Row(categories[0][0]='Kindle Store', count=24788),\n",
       " Row(categories[0][0]='Kitchen & Dining', count=19149),\n",
       " Row(categories[0][0]='Magazine Subscriptions', count=15068),\n",
       " Row(categories[0][0]='Luxury Beauty', count=14383),\n",
       " Row(categories[0][0]='All Beauty', count=13630),\n",
       " Row(categories[0][0]='Gift Cards', count=13033),\n",
       " Row(categories[0][0]='Computers', count=11066),\n",
       " Row(categories[0][0]='Home Improvement', count=10726),\n",
       " Row(categories[0][0]='MP3 Players & Accessories', count=9481),\n",
       " Row(categories[0][0]='Appstore for Android', count=8025),\n",
       " Row(categories[0][0]='Amazon Fire TV', count=4574),\n",
       " Row(categories[0][0]='Car Electronics', count=4135),\n",
       " Row(categories[0][0]='Christian', count=3640),\n",
       " Row(categories[0][0]='Office & School Supplies', count=3595),\n",
       " Row(categories[0][0]='Davis', count=2025),\n",
       " Row(categories[0][0]='Miscellaneous', count=1752),\n",
       " Row(categories[0][0]='Alternative Rock', count=1565),\n",
       " Row(categories[0][0]='Classical', count=1448),\n",
       " Row(categories[0][0]='GPS & Navigation', count=1336),\n",
       " Row(categories[0][0]='Dance & Electronic', count=1094),\n",
       " Row(categories[0][0]='Camera & Photo', count=1070),\n",
       " Row(categories[0][0]='Pop', count=1000),\n",
       " Row(categories[0][0]='All Credit Cards', count=962),\n",
       " Row(categories[0][0]='Amazon Coins', count=643),\n",
       " Row(categories[0][0]='International', count=584),\n",
       " Row(categories[0][0]='Classic Rock', count=533),\n",
       " Row(categories[0][0]='R&B', count=454),\n",
       " Row(categories[0][0]='Hard Rock & Metal', count=445),\n",
       " Row(categories[0][0]='Rock', count=438),\n",
       " Row(categories[0][0]='Purchase Circles', count=415),\n",
       " Row(categories[0][0]='Jazz', count=407),\n",
       " Row(categories[0][0]='Folk', count=402),\n",
       " Row(categories[0][0]='Collectibles & Fine Art', count=377),\n",
       " Row(categories[0][0]='Country', count=361),\n",
       " Row(categories[0][0]='Gift Cards Store', count=284),\n",
       " Row(categories[0][0]='Furniture & D&#233;cor', count=280),\n",
       " Row(categories[0][0]='New Age', count=201),\n",
       " Row(categories[0][0]='Wine', count=180),\n",
       " Row(categories[0][0]='Gospel', count=145),\n",
       " Row(categories[0][0]='Broadway & Vocalists', count=142),\n",
       " Row(categories[0][0]='Blues', count=141),\n",
       " Row(categories[0][0]='Rap & Hip-Hop', count=103),\n",
       " Row(categories[0][0]=\"Children's Music\", count=56),\n",
       " Row(categories[0][0]='#508510', count=17),\n",
       " Row(categories[0][0]='Celebrate your Birthday with Nickelodeon', count=12)]"
      ]
     },
     "execution_count": 35,
     "metadata": {},
     "output_type": "execute_result"
    }
   ],
   "source": [
    "categories_num"
   ]
  },
  {
   "cell_type": "markdown",
   "metadata": {},
   "source": [
    "## WordCloud"
   ]
  },
  {
   "cell_type": "code",
   "execution_count": 110,
   "metadata": {},
   "outputs": [],
   "source": [
    "from pyspark.sql.functions import split, explode, lower\n",
    "\n",
    "# including stopwords\n",
    "from nltk.corpus import stopwords\n",
    "stop_words = stopwords.words(\"english\")\n",
    "\n",
    "# add some non-sense words\n",
    "stop_words += ['', \"-\", \"many\", '\"', \"go\", \"one\", \"much\", \"get\", \"also\", \"would\", \"make\", \"i'm\", \"i've\", \"us\", \"going\",\n",
    "               \"could\", \"made\", \"every\", \"another\", \"things\", \"may\", \"come\", \"know\", \"way\", \"see\", \"put\", \"say\", \"got\",\n",
    "               \"looking\", \"look\", \"give\", \"since\", \"next\", \"think\", \"thought\", \"bit\", \"little\", \"makes\", \"must\", \"lot\",\n",
    "               \"find\", \"done\", \"still\", \"everything\", \"might\", \"wanted\", \"&\", \")\", \"takes\", \"anything\", \"nothing\", \n",
    "               \"said\", \"that's\", \"5\", \"2\", \"gives\", \"--\", \"making\", \"given\", \"often\", \"comes\", \"getting\", \"set\", \n",
    "               \"able\", \"away\", \"felt\", \"using\", \"1\", \"3\", \"4\", \"6\", \"7\", \"8\", \"9\", \"use\", \"feel\", \"used\"]"
   ]
  },
  {
   "cell_type": "code",
   "execution_count": 129,
   "metadata": {},
   "outputs": [],
   "source": [
    "primary_type = \"CDs & Vinyl\"\n",
    "df_type_review = df2.select(\"reviewText\").where(df2.categories[0][0] == primary_type)\n",
    "# df_type_review.count()"
   ]
  },
  {
   "cell_type": "code",
   "execution_count": 130,
   "metadata": {},
   "outputs": [],
   "source": [
    "# https://spark.apache.org/docs/latest/api/python/reference/pyspark.pandas/api/pyspark.pandas.DataFrame.explode.html?highlight=explode\n",
    "# https://spark.apache.org/docs/latest/api/python/reference/api/pyspark.sql.functions.split.html?highlight=split#pyspark.sql.functions.split\n",
    "\n",
    "# split the text by space and punctuations and convert to multiple rows\n",
    "df_type_review_word = df_type_review.select(explode(split(lower(df_type_review.reviewText), '[\\s,.!?]')).alias('words'))\n",
    "# df_type_review_word.show(20)"
   ]
  },
  {
   "cell_type": "code",
   "execution_count": 131,
   "metadata": {},
   "outputs": [],
   "source": [
    "# https://spark.apache.org/docs/latest/api/python/reference/pyspark.pandas/api/pyspark.pandas.groupby.GroupBy.count.html?highlight=count\n",
    "\n",
    "# count the top 100 word frequency and export to \n",
    "df_type_review_word = df_type_review_word.groupBy(\n",
    "    df_type_review_word.words).count().sort(\n",
    "    \"count\", ascending=False)"
   ]
  },
  {
   "cell_type": "code",
   "execution_count": 132,
   "metadata": {},
   "outputs": [
    {
     "data": {
      "text/plain": [
       "[Row(words='album', count=1344225),\n",
       " Row(words='like', count=779316),\n",
       " Row(words='music', count=760023),\n",
       " Row(words='songs', count=698922),\n",
       " Row(words='cd', count=679180),\n",
       " Row(words='song', count=634947),\n",
       " Row(words='great', count=621094),\n",
       " Row(words='good', count=503944),\n",
       " Row(words='love', count=395326),\n",
       " Row(words='best', count=381290),\n",
       " Row(words='first', count=362950),\n",
       " Row(words='really', count=356183),\n",
       " Row(words='sound', count=351509),\n",
       " Row(words='time', count=346311),\n",
       " Row(words='band', count=324698),\n",
       " Row(words='well', count=300045),\n",
       " Row(words='even', count=262770),\n",
       " Row(words='new', count=252027),\n",
       " Row(words='track', count=246320),\n",
       " Row(words='albums', count=244864),\n",
       " Row(words='listen', count=232257),\n",
       " Row(words='rock', count=228941),\n",
       " Row(words='tracks', count=226954),\n",
       " Row(words='better', count=211554),\n",
       " Row(words='heard', count=201677),\n",
       " Row(words='two', count=194301),\n",
       " Row(words='years', count=193124),\n",
       " Row(words='back', count=190858),\n",
       " Row(words='never', count=187439),\n",
       " Row(words='ever', count=182213),\n",
       " Row(words='fan', count=180853),\n",
       " Row(words='work', count=178234),\n",
       " Row(words='voice', count=176335),\n",
       " Row(words='guitar', count=174828),\n",
       " Row(words='sounds', count=168821),\n",
       " Row(words='lyrics', count=166967),\n",
       " Row(words='live', count=162407),\n",
       " Row(words='favorite', count=156171),\n",
       " Row(words='hear', count=148618),\n",
       " Row(words='buy', count=143167),\n",
       " Row(words='listening', count=140150),\n",
       " Row(words='version', count=138918),\n",
       " Row(words='recording', count=138282),\n",
       " Row(words='collection', count=136820),\n",
       " Row(words='vocals', count=136601),\n",
       " Row(words='always', count=130740),\n",
       " Row(words='original', count=128827),\n",
       " Row(words='record', count=126948),\n",
       " Row(words='metal', count=125426),\n",
       " Row(words='though', count=122695),\n",
       " Row(words='fans', count=122409),\n",
       " Row(words='something', count=122032),\n",
       " Row(words='want', count=121371),\n",
       " Row(words='people', count=117987),\n",
       " Row(words='last', count=116919),\n",
       " Row(words='release', count=116323),\n",
       " Row(words='classic', count=115646),\n",
       " Row(words=\"can't\", count=114979),\n",
       " Row(words='long', count=112945),\n",
       " Row(words='old', count=112437),\n",
       " Row(words='different', count=112127),\n",
       " Row(words='beautiful', count=111132),\n",
       " Row(words='disc', count=107567),\n",
       " Row(words='hard', count=103093),\n",
       " Row(words='playing', count=102293),\n",
       " Row(words='excellent', count=102032),\n",
       " Row(words='bad', count=100616),\n",
       " Row(words='musical', count=100280),\n",
       " Row(words='right', count=100109),\n",
       " Row(words='quite', count=100085),\n",
       " Row(words='amazing', count=99465),\n",
       " Row(words='worth', count=95604),\n",
       " Row(words='however', count=95400),\n",
       " Row(words='enjoy', count=95380),\n",
       " Row(words='thing', count=95268),\n",
       " Row(words='quality', count=94972),\n",
       " Row(words='bought', count=94848),\n",
       " Row(words='pop', count=94268),\n",
       " Row(words='play', count=93951),\n",
       " Row(words='nice', count=93923),\n",
       " Row(words='released', count=92623),\n",
       " Row(words='almost', count=91198),\n",
       " Row(words='style', count=90799),\n",
       " Row(words='without', count=90735),\n",
       " Row(words='times', count=90542),\n",
       " Row(words='yet', count=89816),\n",
       " Row(words='pretty', count=89677),\n",
       " Row(words='bands', count=89131),\n",
       " Row(words='probably', count=88986),\n",
       " Row(words='big', count=88096),\n",
       " Row(words='take', count=87136),\n",
       " Row(words='singing', count=86646),\n",
       " Row(words='\"the', count=86237),\n",
       " Row(words='far', count=86105),\n",
       " Row(words='end', count=85614),\n",
       " Row(words='single', count=85380),\n",
       " Row(words='day', count=85136),\n",
       " Row(words='show', count=84165),\n",
       " Row(words='world', count=83344),\n",
       " Row(words='hits', count=82732),\n",
       " Row(words='life', count=81540),\n",
       " Row(words='second', count=81526),\n",
       " Row(words='enough', count=81384),\n",
       " Row(words='wonderful', count=81138),\n",
       " Row(words='dvd', count=80749),\n",
       " Row(words='three', count=80249),\n",
       " Row(words='solo', count=79935),\n",
       " Row(words='whole', count=79153),\n",
       " Row(words='real', count=78920),\n",
       " Row(words='recommend', count=78647),\n",
       " Row(words='performance', count=78626),\n",
       " Row(words='top', count=77897),\n",
       " Row(words='hit', count=77812),\n",
       " Row(words='early', count=77304),\n",
       " Row(words='actually', count=77062),\n",
       " Row(words='recorded', count=76238),\n",
       " Row(words='sure', count=76086),\n",
       " Row(words='part', count=75420),\n",
       " Row(words='came', count=74947),\n",
       " Row(words='around', count=74641),\n",
       " Row(words='&quot;', count=74518),\n",
       " Row(words='found', count=73984),\n",
       " Row(words='played', count=73738),\n",
       " Row(words='seems', count=73716),\n",
       " Row(words='production', count=72656),\n",
       " Row(words=\"there's\", count=72589),\n",
       " Row(words='along', count=71564),\n",
       " Row(words='perfect', count=71332),\n",
       " Row(words='title', count=70535),\n",
       " Row(words='stuff', count=70396),\n",
       " Row(words='true', count=69808),\n",
       " Row(words='recordings', count=69008),\n",
       " Row(words='especially', count=68865),\n",
       " Row(words='definitely', count=68853),\n",
       " Row(words='together', count=68664),\n",
       " Row(words='group', count=68187),\n",
       " Row(words='full', count=67839),\n",
       " Row(words='fun', count=67807),\n",
       " Row(words='greatest', count=67344),\n",
       " Row(words='stars', count=67321),\n",
       " Row(words='man', count=66991),\n",
       " Row(words='kind', count=66117),\n",
       " Row(words='anyone', count=66067),\n",
       " Row(words='rest', count=65334),\n",
       " Row(words='awesome', count=64678),\n",
       " Row(words='although', count=64629),\n",
       " Row(words='vocal', count=64574),\n",
       " Row(words='highly', count=64560),\n",
       " Row(words='heavy', count=64109),\n",
       " Row(words='fact', count=64071),\n",
       " Row(words='year', count=63621),\n",
       " Row(words='bass', count=63455),\n",
       " Row(words='truly', count=63327),\n",
       " Row(words='least', count=62764),\n",
       " Row(words='jazz', count=62679),\n",
       " Row(words='movie', count=62544),\n",
       " Row(words='concert', count=62352),\n",
       " Row(words='material', count=61700),\n",
       " Row(words='high', count=61559),\n",
       " Row(words='others', count=61461),\n",
       " Row(words='cover', count=60584),\n",
       " Row(words='need', count=60529),\n",
       " Row(words='overall', count=60482),\n",
       " Row(words='later', count=59320),\n",
       " Row(words='simply', count=59317),\n",
       " Row(words='loved', count=59169),\n",
       " Row(words='listened', count=59146),\n",
       " Row(words='radio', count=58731),\n",
       " Row(words='piano', count=58334),\n",
       " Row(words='tunes', count=56771),\n",
       " Row(words='blues', count=56664),\n",
       " Row(words='works', count=56623),\n",
       " Row(words='start', count=56612),\n",
       " Row(words='singer', count=56148),\n",
       " Row(words='guys', count=55956),\n",
       " Row(words='let', count=55883),\n",
       " Row(words='john', count=55588),\n",
       " Row(words='maybe', count=55425),\n",
       " Row(words='less', count=55397),\n",
       " Row(words='already', count=55142),\n",
       " Row(words='country', count=54848),\n",
       " Row(words='interesting', count=54570),\n",
       " Row(words='sing', count=54407),\n",
       " Row(words='shows', count=54077),\n",
       " Row(words='course', count=54027),\n",
       " Row(words='point', count=53645),\n",
       " Row(words='piece', count=53104),\n",
       " Row(words='cds', count=53042),\n",
       " Row(words='catchy', count=52965),\n",
       " Row(words='days', count=52775),\n",
       " Row(words='review', count=52388),\n",
       " Row(words='mind', count=52224),\n",
       " Row(words='mix', count=52063),\n",
       " Row(words='rather', count=51893),\n",
       " Row(words='fine', count=51456),\n",
       " Row(words='strong', count=51358),\n",
       " Row(words='artist', count=51223),\n",
       " Row(words='several', count=51193),\n",
       " Row(words='studio', count=51051),\n",
       " Row(words='believe', count=50621)]"
      ]
     },
     "execution_count": 132,
     "metadata": {},
     "output_type": "execute_result"
    }
   ],
   "source": [
    "# https://stackoverflow.com/questions/19960077/how-to-filter-pandas-dataframe-using-in-and-not-in-like-in-sql\n",
    "\n",
    "# filter out stopwords\n",
    "df_type_review_word_list = df_type_review_word.select(\"words\", \"count\").where(\n",
    "    ~df_type_review_word.words.isin(stop_words)).limit(200).collect()\n",
    "df_type_review_word_list"
   ]
  },
  {
   "cell_type": "code",
   "execution_count": 133,
   "metadata": {},
   "outputs": [],
   "source": [
    "# generate world frequencies for world cloud\n",
    "plot_dict = {}\n",
    "for item in df_type_review_word_list:\n",
    "    plot_dict[item[0]] = item[1]"
   ]
  },
  {
   "cell_type": "code",
   "execution_count": 49,
   "metadata": {},
   "outputs": [
    {
     "name": "stdout",
     "output_type": "stream",
     "text": [
      "Collecting wordcloud\n",
      "  Using cached https://files.pythonhosted.org/packages/05/e7/52e4bef8e2e3499f6e96cc8ff7e0902a40b95014143b062acde4ff8b9fc8/wordcloud-1.8.1-cp36-cp36m-manylinux1_x86_64.whl\n",
      "Requirement already satisfied: matplotlib in /usr/local/Anaconda3-5.1.0/lib/python3.6/site-packages (from wordcloud) (2.2.2)\n",
      "Requirement already satisfied: numpy>=1.6.1 in /usr/local/Anaconda3-5.1.0/lib/python3.6/site-packages (from wordcloud) (1.14.2)\n",
      "Requirement already satisfied: pillow in /usr/local/Anaconda3-5.1.0/lib/python3.6/site-packages (from wordcloud) (5.0.0)\n",
      "Requirement already satisfied: cycler>=0.10 in /usr/local/Anaconda3-5.1.0/lib/python3.6/site-packages (from matplotlib->wordcloud) (0.10.0)\n",
      "Requirement already satisfied: pyparsing!=2.0.4,!=2.1.2,!=2.1.6,>=2.0.1 in /usr/local/Anaconda3-5.1.0/lib/python3.6/site-packages (from matplotlib->wordcloud) (2.2.0)\n",
      "Requirement already satisfied: python-dateutil>=2.1 in /usr/local/Anaconda3-5.1.0/lib/python3.6/site-packages (from matplotlib->wordcloud) (2.7.0)\n",
      "Requirement already satisfied: pytz in /usr/local/Anaconda3-5.1.0/lib/python3.6/site-packages (from matplotlib->wordcloud) (2018.3)\n",
      "Requirement already satisfied: six>=1.10 in /usr/local/Anaconda3-5.1.0/lib/python3.6/site-packages (from matplotlib->wordcloud) (1.11.0)\n",
      "Requirement already satisfied: kiwisolver>=1.0.1 in /usr/local/Anaconda3-5.1.0/lib/python3.6/site-packages (from matplotlib->wordcloud) (1.0.1)\n",
      "Requirement already satisfied: setuptools in /usr/local/Anaconda3-5.1.0/lib/python3.6/site-packages (from kiwisolver>=1.0.1->matplotlib->wordcloud) (38.5.1)\n",
      "Installing collected packages: wordcloud\n",
      "\u001b[33m  The script wordcloud_cli is installed in '/home/ywang27/.local/bin' which is not on PATH.\n",
      "  Consider adding this directory to PATH or, if you prefer to suppress this warning, use --no-warn-script-location.\u001b[0m\n",
      "Successfully installed wordcloud-1.8.1\n",
      "\u001b[33mYou are using pip version 10.0.1, however version 21.3.1 is available.\n",
      "You should consider upgrading via the 'pip install --upgrade pip' command.\u001b[0m\n"
     ]
    }
   ],
   "source": [
    "!pip install wordcloud --user"
   ]
  },
  {
   "cell_type": "code",
   "execution_count": 50,
   "metadata": {},
   "outputs": [],
   "source": [
    "from wordcloud import WordCloud\n",
    "import matplotlib.pyplot as plt"
   ]
  },
  {
   "cell_type": "code",
   "execution_count": 134,
   "metadata": {},
   "outputs": [
    {
     "data": {
      "text/plain": [
       "<matplotlib.image.AxesImage at 0x7f8284602208>"
      ]
     },
     "execution_count": 134,
     "metadata": {},
     "output_type": "execute_result"
    },
    {
     "data": {
      "image/png": "[encoded data removed]",
      "text/plain": [
       "<Figure size 432x288 with 1 Axes>"
      ]
     },
     "metadata": {},
     "output_type": "display_data"
    }
   ],
   "source": [
    "# https://amueller.github.io/word_cloud/generated/wordcloud.WordCloud.html#wordcloud.WordCloud\n",
    "\n",
    "# generate plot\n",
    "wc = WordCloud(width=600, height=400, background_color=\"white\", max_words=200)\n",
    "wc.generate_from_frequencies(plot_dict)\n",
    "wc.to_file(f\"./wordcloud/{primary_type}.png\")\n",
    "plt.imshow(wc)"
   ]
  },
  {
   "cell_type": "markdown",
   "metadata": {},
   "source": [
    "### Word Clouds for Top 10 reviewed categories of product\n",
    "\n",
    "Books\n",
    "\n",
    "![](./wordcloud/Books.png)\n",
    "\n",
    "Electronics\n",
    "\n",
    "![](./wordcloud/Electronics.png)\n",
    "\n",
    "Clothing\n",
    "\n",
    "![](./wordcloud/Electronics.png)\n",
    "\n",
    "Movies & TV\n",
    "\n",
    "![](./wordcloud/Movies & TV.png)\n",
    "\n",
    "Home & Kitchen\n",
    "\n",
    "![](./wordcloud/Home & Kitchen.png)\n",
    "\n",
    "Health & Personal Care\n",
    "\n",
    "![](./wordcloud/Health & Personal Care.png)\n",
    "\n",
    "Cell Phone & Accessories\n",
    "\n",
    "![](./wordcloud/Cell Phones & Accessories.png)\n",
    "\n",
    "Apps for Android\n",
    "\n",
    "![](./wordcloud/Apps for Android.png)\n",
    "\n",
    "Sports & Outdoors\n",
    "\n",
    "![](./wordcloud/Sports & Outdoors.png)\n",
    "\n",
    "CDs & Vinyl\n",
    "\n",
    "![](./wordcloud/CDs & Vinyl.png)"
   ]
  },
  {
   "cell_type": "code",
   "execution_count": null,
   "metadata": {},
   "outputs": [],
   "source": []
  }
 ],
 "metadata": {
  "kernelspec": {
   "display_name": "pySpark",
   "language": "python",
   "name": "pyspark"
  },
  "language_info": {
   "codemirror_mode": {
    "name": "ipython",
    "version": 3
   },
   "file_extension": ".py",
   "mimetype": "text/x-python",
   "name": "python",
   "nbconvert_exporter": "python",
   "pygments_lexer": "ipython3",
   "version": "3.6.8"
  }
 },
 "nbformat": 4,
 "nbformat_minor": 2
}
